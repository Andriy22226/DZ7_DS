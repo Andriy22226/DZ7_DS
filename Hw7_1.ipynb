{
  "cells": [
    {
      "cell_type": "markdown",
      "metadata": {
        "colab_type": "text",
        "id": "view-in-github"
      },
      "source": [
        "<a href=\"https://colab.research.google.com/github/sergiokapone/DataScience/blob/main/Hw7/Hw7.ipynb\" target=\"_parent\"><img src=\"https://colab.research.google.com/assets/colab-badge.svg\" alt=\"Open In Colab\"/></a>"
      ]
    },
    {
      "cell_type": "code",
      "execution_count": 1,
      "metadata": {
        "colab": {
          "base_uri": "https://localhost:8080/"
        },
        "id": "meODLrJk48rX",
        "outputId": "27ac8a89-bb5d-4d85-edc0-4ac1b7de7104"
      },
      "outputs": [
        {
          "name": "stdout",
          "output_type": "stream",
          "text": [
            "Requirement already satisfied: scikit-surprise in c:\\users\\andriy\\anaconda3\\envs\\mydata\\lib\\site-packages (1.1.3)\n",
            "Requirement already satisfied: joblib>=1.0.0 in c:\\users\\andriy\\anaconda3\\envs\\mydata\\lib\\site-packages (from scikit-surprise) (1.2.0)\n",
            "Requirement already satisfied: numpy>=1.17.3 in c:\\users\\andriy\\anaconda3\\envs\\mydata\\lib\\site-packages (from scikit-surprise) (1.26.3)\n",
            "Requirement already satisfied: scipy>=1.3.2 in c:\\users\\andriy\\anaconda3\\envs\\mydata\\lib\\site-packages (from scikit-surprise) (1.11.4)\n",
            "Note: you may need to restart the kernel to use updated packages.\n"
          ]
        }
      ],
      "source": [
        "!pip install scikit-surprise"
      ]
    },
    {
      "cell_type": "code",
      "execution_count": 2,
      "metadata": {
        "id": "TNBaguEM5OJG"
      },
      "outputs": [],
      "source": [
        "from surprise import SVD, SVDpp, NMF\n",
        "from surprise import Dataset\n",
        "from surprise import accuracy\n",
        "from surprise.model_selection import cross_validate\n",
        "from surprise.model_selection import train_test_split, cross_validate, RandomizedSearchCV\n",
        "from hyperopt import hp, fmin, tpe\n",
        "import pandas as pd"
      ]
    },
    {
      "cell_type": "code",
      "execution_count": 3,
      "metadata": {
        "id": "N0IhpCdb9NAw"
      },
      "outputs": [],
      "source": [
        "# Load the movielens-100k dataset (download it if needed).\n",
        "data = Dataset.load_builtin('ml-100k')"
      ]
    },
    {
      "cell_type": "code",
      "execution_count": 4,
      "metadata": {},
      "outputs": [],
      "source": [
        "# sample random trainset and testset\n",
        "# test set is made of 25% of the ratings.\n",
        "train_set, test_set = train_test_split(data, test_size=0.25)"
      ]
    },
    {
      "cell_type": "markdown",
      "metadata": {},
      "source": [
        "Для вибору параметрів скористаємось бібліотекою hyperopt. Об'єкт hp"
      ]
    },
    {
      "cell_type": "code",
      "execution_count": 5,
      "metadata": {
        "colab": {
          "base_uri": "https://localhost:8080/"
        },
        "id": "v1_knE0p9Xee",
        "outputId": "443a1a42-f765-48d9-9f83-abfeeea7857d"
      },
      "outputs": [],
      "source": [
        "param_svd = {\n",
        "    'n_factors': hp.choice('n_factors', [50, 100, 150]),\n",
        "    'n_epochs': hp.choice('n_epochs', [10, 20, 30]),\n",
        "    'lr_all': hp.uniform('lr_all', 0.001, 0.1),\n",
        "    'reg_all': hp.uniform('reg_all', 0.01, 0.2),\n",
        "    'random_state': 42\n",
        "}\n",
        "\n",
        "param_nmf = {\n",
        "        'n_factors': hp.choice('n_factors', [5, 10, 15, 20, 25]),\n",
        "        'n_epochs': hp.choice('n_epochs', [10, 20, 30, 40, 50]),\n",
        "        'biased': hp.choice('biased', [True, False]),\n",
        "        'reg_pu': hp.uniform('reg_pu', 0.001, 0.1),\n",
        "        'reg_qi': hp.uniform('reg_qi', 0.001, 0.1),\n",
        "        'lr_bu': hp.uniform('lr_bu', 0.001, 0.1),\n",
        "        'lr_bi': hp.uniform('lr_bi', 0.001, 0.1),\n",
        "        'random_state': 42\n",
        "    }"
      ]
    },
    {
      "cell_type": "markdown",
      "metadata": {},
      "source": [
        "https://github.com/hyperopt/hyperopt/wiki/FMin"
      ]
    },
    {
      "cell_type": "code",
      "execution_count": 6,
      "metadata": {},
      "outputs": [],
      "source": [
        "\n",
        "params = [param_svd,\n",
        "          param_svd,\n",
        "          param_nmf]\n",
        "models = [SVD,\n",
        "          SVDpp,\n",
        "          NMF]"
      ]
    },
    {
      "cell_type": "code",
      "execution_count": 7,
      "metadata": {},
      "outputs": [
        {
          "name": "stdout",
          "output_type": "stream",
          "text": [
            "-------------------------\n",
            "Srart: SVD\n",
            "-------------------------\n",
            "100%|██████████| 5/5 [00:24<00:00,  4.94s/trial, best loss: 0.9117601185644875]\n",
            "-------------------------\n",
            "Srart: SVDpp\n",
            "-------------------------\n",
            "100%|██████████| 5/5 [22:06<00:00, 265.29s/trial, best loss: 0.9176423721037874]\n",
            "-------------------------\n",
            "Srart: NMF\n",
            "-------------------------\n",
            "100%|██████████| 5/5 [00:33<00:00,  6.63s/trial, best loss: 0.968349153804603] \n"
          ]
        }
      ],
      "source": [
        "\n",
        "\n",
        "def objective(params, func):\n",
        "    model = func(**params)\n",
        "    results = cross_validate(model, data, measures=['RMSE'], cv=5, verbose=False)\n",
        "    return results['test_rmse'].mean()\n",
        "\n",
        "best_params = []\n",
        "for param, func in zip(params, models):\n",
        "    print('-------------------------')\n",
        "    print(f'Srart: {func.__name__}')\n",
        "    print('-------------------------')\n",
        "\n",
        "    best = fmin(fn=lambda params: objective(params, func), space=param, algo=tpe.suggest, max_evals=5)\n",
        "    best_params.append(best)"
      ]
    },
    {
      "cell_type": "code",
      "execution_count": 9,
      "metadata": {},
      "outputs": [
        {
          "data": {
            "text/plain": [
              "[{'lr_all': 0.009182143084483289,\n",
              "  'n_epochs': 2,\n",
              "  'n_factors': 2,\n",
              "  'reg_all': 0.07783164433995089},\n",
              " {'lr_all': 0.031698856670620924,\n",
              "  'n_epochs': 0,\n",
              "  'n_factors': 2,\n",
              "  'reg_all': 0.1158746969898102},\n",
              " {'biased': 0,\n",
              "  'lr_bi': 0.09253478289174492,\n",
              "  'lr_bu': 0.009507916969676452,\n",
              "  'n_epochs': 4,\n",
              "  'n_factors': 1,\n",
              "  'reg_pu': 0.01682567392296203,\n",
              "  'reg_qi': 0.07279481686793919}]"
            ]
          },
          "execution_count": 9,
          "metadata": {},
          "output_type": "execute_result"
        }
      ],
      "source": [
        "best_params   "
      ]
    },
    {
      "cell_type": "markdown",
      "metadata": {},
      "source": [
        "Висновки\n",
        "На основі результатів крос-валідації для різних алгоритмів матричної факторизації (SVD, SVD++, NMF), можна зробити такі висновки:\n",
        "\n",
        "SVD має середнє значення RMSE приблизно 0.912. Час навчання та тестування відносно низький.\n",
        "\n",
        "SVD++ має значення RMSE приблизно 0.917. Час тестування відносно високий, що може бути недоцільним у великих завданнях.\n",
        "\n",
        "NMF має значення RMSE приблизно 0.968. Час навчання та тестування прийнятний, але середня точність менше, ніж у SVD.\n",
        "\n",
        "За зазначеними метриками RMSE і MAE, SVD має найкращу точність серед цих алгоритмів. Таким чином, для цього конкретного завдання рекомендується використовувати алгоритм SVD для матричної факторизації."
      ]
    }
  ],
  "metadata": {
    "colab": {
      "authorship_tag": "ABX9TyOYSH5soY+zSUPQQjKm1b4x",
      "include_colab_link": true,
      "provenance": []
    },
    "kernelspec": {
      "display_name": "Python 3",
      "name": "python3"
    },
    "language_info": {
      "codemirror_mode": {
        "name": "ipython",
        "version": 3
      },
      "file_extension": ".py",
      "mimetype": "text/x-python",
      "name": "python",
      "nbconvert_exporter": "python",
      "pygments_lexer": "ipython3",
      "version": "3.11.5"
    }
  },
  "nbformat": 4,
  "nbformat_minor": 0
}
